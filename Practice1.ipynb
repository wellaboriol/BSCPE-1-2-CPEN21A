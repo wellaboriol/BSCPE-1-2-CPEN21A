{
  "nbformat": 4,
  "nbformat_minor": 0,
  "metadata": {
    "colab": {
      "name": "Practice1.ipynb",
      "provenance": [],
      "authorship_tag": "ABX9TyPhct9dkMBa4bdi/SE9vuzI",
      "include_colab_link": true
    },
    "kernelspec": {
      "name": "python3",
      "display_name": "Python 3"
    },
    "language_info": {
      "name": "python"
    }
  },
  "cells": [
    {
      "cell_type": "markdown",
      "metadata": {
        "id": "view-in-github",
        "colab_type": "text"
      },
      "source": [
        "<a href=\"https://colab.research.google.com/github/wellaboriol/BSCPE-1-2-CPEN21A/blob/main/Practice1.ipynb\" target=\"_parent\"><img src=\"https://colab.research.google.com/assets/colab-badge.svg\" alt=\"Open In Colab\"/></a>"
      ]
    },
    {
      "cell_type": "code",
      "metadata": {
        "id": "Vlc76Ukf1pxr"
      },
      "source": [
        ""
      ],
      "execution_count": null,
      "outputs": []
    },
    {
      "cell_type": "markdown",
      "metadata": {
        "id": "lw3Wabi2GPKS"
      },
      "source": [
        "###Introduction to Python"
      ]
    },
    {
      "cell_type": "code",
      "metadata": {
        "colab": {
          "base_uri": "https://localhost:8080/"
        },
        "id": "1wxfl2xBGfkz",
        "outputId": "e8beecf7-465e-4064-bd9f-8155f0e95025"
      },
      "source": [
        "#Python Indention\n",
        "if 4>2:\n",
        "  print(\"four is greater than two\")"
      ],
      "execution_count": 1,
      "outputs": [
        {
          "output_type": "stream",
          "name": "stdout",
          "text": [
            "four is greater than two\n"
          ]
        }
      ]
    },
    {
      "cell_type": "code",
      "metadata": {
        "colab": {
          "base_uri": "https://localhost:8080/"
        },
        "id": "0Evlk-V1HEV5",
        "outputId": "7925de77-dc42-48ce-8a02-443c36108f8b"
      },
      "source": [
        "x=2 #This is a single variable with single value\n",
        "x,y=2,4 #These are two variables with two different values\n",
        "print(x)\n",
        "print(y)"
      ],
      "execution_count": 2,
      "outputs": [
        {
          "output_type": "stream",
          "name": "stdout",
          "text": [
            "2\n",
            "4\n"
          ]
        }
      ]
    },
    {
      "cell_type": "code",
      "metadata": {
        "colab": {
          "base_uri": "https://localhost:8080/"
        },
        "id": "p01Uc5uLHr1B",
        "outputId": "d7ce3373-e82e-44f3-f0f4-95ec21e40103"
      },
      "source": [
        "age = 19\n",
        "name = \"Freya\"\n",
        "print(age)\n",
        "print(name)"
      ],
      "execution_count": 4,
      "outputs": [
        {
          "output_type": "stream",
          "name": "stdout",
          "text": [
            "19\n",
            "Freya\n"
          ]
        }
      ]
    },
    {
      "cell_type": "markdown",
      "metadata": {
        "id": "hGt4-KsKIKjr"
      },
      "source": [
        "###Casting"
      ]
    },
    {
      "cell_type": "code",
      "metadata": {
        "colab": {
          "base_uri": "https://localhost:8080/"
        },
        "id": "huCJ9DskIQK7",
        "outputId": "40ddfdd7-a8ae-4a6f-efee-8dba7a07aa38"
      },
      "source": [
        "a = int(8)\n",
        "a\n",
        "b = float(8)\n",
        "b"
      ],
      "execution_count": 7,
      "outputs": [
        {
          "output_type": "execute_result",
          "data": {
            "text/plain": [
              "8.0"
            ]
          },
          "metadata": {},
          "execution_count": 7
        }
      ]
    },
    {
      "cell_type": "markdown",
      "metadata": {
        "id": "6IqcFDNSIzzS"
      },
      "source": [
        "###Type Function\n"
      ]
    },
    {
      "cell_type": "code",
      "metadata": {
        "colab": {
          "base_uri": "https://localhost:8080/"
        },
        "id": "TCd1OaC6I42A",
        "outputId": "ed554dd4-b4df-4afc-c6cb-b28ffed62415"
      },
      "source": [
        "x=7\n",
        "y='grey'\n",
        "\n",
        "print(type(x))\n",
        "print(type(y))"
      ],
      "execution_count": 8,
      "outputs": [
        {
          "output_type": "stream",
          "name": "stdout",
          "text": [
            "<class 'int'>\n",
            "<class 'str'>\n"
          ]
        }
      ]
    },
    {
      "cell_type": "markdown",
      "metadata": {
        "id": "ZfgbFgACJcbB"
      },
      "source": [
        "###Case Sensitive\n"
      ]
    },
    {
      "cell_type": "code",
      "metadata": {
        "colab": {
          "base_uri": "https://localhost:8080/"
        },
        "id": "kFuAstHdJi46",
        "outputId": "0ba98584-27ce-42ad-da76-6d8b79b7c8cc"
      },
      "source": [
        "a = \"red\"\n",
        "A = \"Red\"\n",
        "print(a)\n",
        "print(A)"
      ],
      "execution_count": 10,
      "outputs": [
        {
          "output_type": "stream",
          "name": "stdout",
          "text": [
            "red\n",
            "Red\n"
          ]
        }
      ]
    },
    {
      "cell_type": "markdown",
      "metadata": {
        "id": "PaqiH53lJ3K6"
      },
      "source": [
        "###Multiple Variables\n"
      ]
    },
    {
      "cell_type": "code",
      "metadata": {
        "colab": {
          "base_uri": "https://localhost:8080/"
        },
        "id": "IKj1V671J5ug",
        "outputId": "635dfde9-e37a-46f4-f70e-f56beee5fb64"
      },
      "source": [
        "x=y=z=8\n",
        "print(x)\n",
        "print(y)\n",
        "print(z)\n"
      ],
      "execution_count": 11,
      "outputs": [
        {
          "output_type": "stream",
          "name": "stdout",
          "text": [
            "8\n",
            "8\n",
            "8\n"
          ]
        }
      ]
    },
    {
      "cell_type": "code",
      "metadata": {
        "colab": {
          "base_uri": "https://localhost:8080/"
        },
        "id": "ww9VshUqKJm0",
        "outputId": "52ab6802-17e6-4c82-ba2b-743276a949ad"
      },
      "source": [
        "x = \"enjoying\"\n",
        "print(\"Python Programming is \" + x)  \n"
      ],
      "execution_count": 12,
      "outputs": [
        {
          "output_type": "stream",
          "name": "stdout",
          "text": [
            "Python Programming is enjoying\n"
          ]
        }
      ]
    },
    {
      "cell_type": "code",
      "metadata": {
        "colab": {
          "base_uri": "https://localhost:8080/"
        },
        "id": "l1gvVIOjKpoi",
        "outputId": "d86527a3-500a-4983-85cc-907772636701"
      },
      "source": [
        "c,d=3,6\n",
        "print(c+d)\n",
        "print(c-d)\n",
        "print(c*d)\n",
        "print(c/d)\n"
      ],
      "execution_count": 13,
      "outputs": [
        {
          "output_type": "stream",
          "name": "stdout",
          "text": [
            "9\n",
            "-3\n",
            "18\n",
            "0.5\n"
          ]
        }
      ]
    },
    {
      "cell_type": "code",
      "metadata": {
        "colab": {
          "base_uri": "https://localhost:8080/"
        },
        "id": "8OZpmvvuLIdC",
        "outputId": "3bbd4fdd-0dee-407d-b764-60381abdca91"
      },
      "source": [
        "c+=3 #This is the same as x = x + 3\n",
        "print(c)"
      ],
      "execution_count": 15,
      "outputs": [
        {
          "output_type": "stream",
          "name": "stdout",
          "text": [
            "9\n"
          ]
        }
      ]
    },
    {
      "cell_type": "code",
      "metadata": {
        "id": "t9BLI4yhL01L"
      },
      "source": [
        "e=9\n",
        "f=12\n",
        "g=15\n",
        "h=18"
      ],
      "execution_count": 18,
      "outputs": []
    },
    {
      "cell_type": "code",
      "metadata": {
        "colab": {
          "base_uri": "https://localhost:8080/"
        },
        "id": "tkQLkX9DMB85",
        "outputId": "66b739d6-6899-43f3-95c3-c05ba2e13093"
      },
      "source": [
        "e<f and g<h\n"
      ],
      "execution_count": 19,
      "outputs": [
        {
          "output_type": "execute_result",
          "data": {
            "text/plain": [
              "True"
            ]
          },
          "metadata": {},
          "execution_count": 19
        }
      ]
    },
    {
      "cell_type": "code",
      "metadata": {
        "colab": {
          "base_uri": "https://localhost:8080/"
        },
        "id": "kU9xLIcyMt2r",
        "outputId": "59105b1e-f105-4daf-e7ee-b6d19db6256b"
      },
      "source": [
        "e is f"
      ],
      "execution_count": 20,
      "outputs": [
        {
          "output_type": "execute_result",
          "data": {
            "text/plain": [
              "False"
            ]
          },
          "metadata": {},
          "execution_count": 20
        }
      ]
    },
    {
      "cell_type": "code",
      "metadata": {
        "colab": {
          "base_uri": "https://localhost:8080/"
        },
        "id": "tL_pFFFVMynh",
        "outputId": "ea050bd8-f901-44b4-94b9-2c29b7f1a885"
      },
      "source": [
        "f is not h"
      ],
      "execution_count": 21,
      "outputs": [
        {
          "output_type": "execute_result",
          "data": {
            "text/plain": [
              "True"
            ]
          },
          "metadata": {},
          "execution_count": 21
        }
      ]
    }
  ]
}