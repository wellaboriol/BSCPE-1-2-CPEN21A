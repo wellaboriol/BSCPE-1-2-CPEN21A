{
  "nbformat": 4,
  "nbformat_minor": 0,
  "metadata": {
    "colab": {
      "name": "Operations and Expressions.ipynb",
      "provenance": [],
      "authorship_tag": "ABX9TyMN8xKQINsmxx4GVsJKPglm",
      "include_colab_link": true
    },
    "kernelspec": {
      "name": "python3",
      "display_name": "Python 3"
    },
    "language_info": {
      "name": "python"
    }
  },
  "cells": [
    {
      "cell_type": "markdown",
      "metadata": {
        "id": "view-in-github",
        "colab_type": "text"
      },
      "source": [
        "<a href=\"https://colab.research.google.com/github/wellaboriol/BSCPE-1-2-CPEN21A/blob/main/Operations_and_Expressions.ipynb\" target=\"_parent\"><img src=\"https://colab.research.google.com/assets/colab-badge.svg\" alt=\"Open In Colab\"/></a>"
      ]
    },
    {
      "cell_type": "markdown",
      "metadata": {
        "id": "7KDqnH4G0lom"
      },
      "source": [
        "##Boolean Operators"
      ]
    },
    {
      "cell_type": "code",
      "metadata": {
        "colab": {
          "base_uri": "https://localhost:8080/"
        },
        "id": "V36j91rW0uOt",
        "outputId": "c2863cd3-9481-4495-a2a1-9e5c49405c58"
      },
      "source": [
        "##Booleans represent one of two values: True or False\n",
        "print(10>9)\n",
        "print (10==9)"
      ],
      "execution_count": null,
      "outputs": [
        {
          "output_type": "stream",
          "name": "stdout",
          "text": [
            "True\n",
            "False\n"
          ]
        }
      ]
    },
    {
      "cell_type": "code",
      "metadata": {
        "colab": {
          "base_uri": "https://localhost:8080/"
        },
        "id": "4wgQUjhk1Mib",
        "outputId": "40c774ac-553e-4160-abce-766fb72e6f2a"
      },
      "source": [
        "a = 5\n",
        "b = 10\n",
        "print(a>b)\n",
        "print(b>a)"
      ],
      "execution_count": null,
      "outputs": [
        {
          "output_type": "stream",
          "name": "stdout",
          "text": [
            "False\n",
            "True\n"
          ]
        }
      ]
    },
    {
      "cell_type": "code",
      "metadata": {
        "colab": {
          "base_uri": "https://localhost:8080/"
        },
        "id": "4GVP66H82RlQ",
        "outputId": "bdb29613-2eb1-4d61-aeca-4e9b3b676d64"
      },
      "source": [
        "print(bool(\"Hello\"))\n",
        "print(bool())\n",
        "print(bool(8))"
      ],
      "execution_count": null,
      "outputs": [
        {
          "output_type": "stream",
          "name": "stdout",
          "text": [
            "True\n",
            "False\n",
            "True\n"
          ]
        }
      ]
    },
    {
      "cell_type": "code",
      "metadata": {
        "colab": {
          "base_uri": "https://localhost:8080/"
        },
        "id": "Rp3kZ5CQ3OqN",
        "outputId": "c8d9bda1-186a-4475-953d-980d97ea7a2d"
      },
      "source": [
        "def myFunction(): return False\n",
        "\n",
        "if myFunction():\n",
        " print(\"Yes\")\n",
        "else:\n",
        " print(\"No\")"
      ],
      "execution_count": null,
      "outputs": [
        {
          "output_type": "stream",
          "name": "stdout",
          "text": [
            "No\n"
          ]
        }
      ]
    },
    {
      "cell_type": "code",
      "metadata": {
        "colab": {
          "base_uri": "https://localhost:8080/"
        },
        "id": "DTA57ewE4RnO",
        "outputId": "28ff52ae-a96e-4b0a-9763-a1b453b2749a"
      },
      "source": [
        "a = 6\n",
        "b = 7\n",
        "\n",
        "print(a==b)\n",
        "print(a!=a)"
      ],
      "execution_count": null,
      "outputs": [
        {
          "output_type": "stream",
          "name": "stdout",
          "text": [
            "False\n",
            "False\n"
          ]
        }
      ]
    },
    {
      "cell_type": "code",
      "metadata": {
        "colab": {
          "base_uri": "https://localhost:8080/"
        },
        "id": "LkjKKSOW49FG",
        "outputId": "eaf04944-c3c6-4862-df9d-c01aa922cd13"
      },
      "source": [
        "print(10+5)\n",
        "print(10-5)\n",
        "print(10*5)\n",
        "print(10/5) #division - quotient\n",
        "print(10%5) #modula division\n",
        "print(10%3) #modula division\n",
        "print(10//3) #floor division\n",
        "print(10**2) #concatenation"
      ],
      "execution_count": null,
      "outputs": [
        {
          "output_type": "stream",
          "name": "stdout",
          "text": [
            "15\n",
            "5\n",
            "50\n",
            "2.0\n",
            "0\n",
            "1\n",
            "3\n",
            "100\n"
          ]
        }
      ]
    },
    {
      "cell_type": "code",
      "metadata": {
        "colab": {
          "base_uri": "https://localhost:8080/"
        },
        "id": "52Sq5jCV7agc",
        "outputId": "3618deb6-0f78-475d-d6eb-e03dd7b2bbd9"
      },
      "source": [
        "a = 60 #0011 1100\n",
        "b = 13 #0000 1101\n",
        "\n",
        "print(a & b)\n",
        "print(a | b)\n",
        "print(a ^ b)\n",
        "print(a<<2)\n",
        "print(a>>2)"
      ],
      "execution_count": null,
      "outputs": [
        {
          "output_type": "stream",
          "name": "stdout",
          "text": [
            "12\n",
            "61\n",
            "49\n",
            "240\n",
            "15\n"
          ]
        }
      ]
    },
    {
      "cell_type": "code",
      "metadata": {
        "colab": {
          "base_uri": "https://localhost:8080/"
        },
        "id": "yzw3RCN5-qen",
        "outputId": "4a9df68c-2db9-4dd4-b2a7-71a871b974a6"
      },
      "source": [
        "x = 6\n",
        "x += 3 #x = X+3\n",
        "print(x)"
      ],
      "execution_count": null,
      "outputs": [
        {
          "output_type": "stream",
          "name": "stdout",
          "text": [
            "9\n"
          ]
        }
      ]
    },
    {
      "cell_type": "code",
      "metadata": {
        "colab": {
          "base_uri": "https://localhost:8080/"
        },
        "id": "jtRK7TtfARYz",
        "outputId": "678e9400-d474-459f-c59b-9f651994ebb2"
      },
      "source": [
        "a = True\n",
        "b = False\n",
        "\n",
        "print(a and b)\n",
        "print(a or b)\n",
        "print(not(a and b))\n",
        "print(not(a or b)) #negation"
      ],
      "execution_count": null,
      "outputs": [
        {
          "output_type": "stream",
          "name": "stdout",
          "text": [
            "False\n",
            "True\n",
            "True\n",
            "False\n"
          ]
        }
      ]
    },
    {
      "cell_type": "code",
      "metadata": {
        "colab": {
          "base_uri": "https://localhost:8080/"
        },
        "id": "7wxzpZzoBHHD",
        "outputId": "19b9907f-6d4d-4ac3-c6b3-0aae724cded8"
      },
      "source": [
        "print(a is b)\n",
        "print(a is not b)"
      ],
      "execution_count": null,
      "outputs": [
        {
          "output_type": "stream",
          "name": "stdout",
          "text": [
            "False\n",
            "True\n"
          ]
        }
      ]
    }
  ]
}